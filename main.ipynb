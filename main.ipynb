{
 "cells": [
  {
   "cell_type": "code",
   "execution_count": 1,
   "metadata": {},
   "outputs": [
    {
     "name": "stderr",
     "output_type": "stream",
     "text": [
      "/home/george/Desktop/pycarrot/.venv/lib/python3.9/site-packages/tqdm/auto.py:22: TqdmWarning: IProgress not found. Please update jupyter and ipywidgets. See https://ipywidgets.readthedocs.io/en/stable/user_install.html\n",
      "  from .autonotebook import tqdm as notebook_tqdm\n"
     ]
    }
   ],
   "source": [
    "from sklearn.datasets import load_breast_cancer\n",
    "import pandas as pd\n",
    "import seaborn as sns\n",
    "\n",
    "import pycarrot as pc\n",
    "\n",
    "%load_ext autoreload\n",
    "%autoreload 2\n",
    "\n",
    "pd.options.display.max_columns = 2000\n",
    "\n",
    "sns.set_theme()"
   ]
  },
  {
   "cell_type": "code",
   "execution_count": 2,
   "metadata": {},
   "outputs": [],
   "source": [
    "# bc = load_breast_cancer()\n",
    "# X = pd.DataFrame(bc.data, columns=bc.feature_names)\n",
    "# y = pd.Series(bc.target, name=\"class\")\n",
    "# df = pd.concat([X, y], axis=1)\n",
    "# df.head()"
   ]
  },
  {
   "cell_type": "code",
   "execution_count": 2,
   "metadata": {},
   "outputs": [
    {
     "data": {
      "text/html": [
       "<div>\n",
       "<style scoped>\n",
       "    .dataframe tbody tr th:only-of-type {\n",
       "        vertical-align: middle;\n",
       "    }\n",
       "\n",
       "    .dataframe tbody tr th {\n",
       "        vertical-align: top;\n",
       "    }\n",
       "\n",
       "    .dataframe thead th {\n",
       "        text-align: right;\n",
       "    }\n",
       "</style>\n",
       "<table border=\"1\" class=\"dataframe\">\n",
       "  <thead>\n",
       "    <tr style=\"text-align: right;\">\n",
       "      <th></th>\n",
       "      <th>class</th>\n",
       "      <th>age</th>\n",
       "      <th>menopause</th>\n",
       "      <th>tumor-size</th>\n",
       "      <th>inv-nodes</th>\n",
       "      <th>node-caps</th>\n",
       "      <th>deg-malig</th>\n",
       "      <th>breast</th>\n",
       "      <th>breast-quad</th>\n",
       "      <th>irradiat</th>\n",
       "    </tr>\n",
       "  </thead>\n",
       "  <tbody>\n",
       "    <tr>\n",
       "      <th>0</th>\n",
       "      <td>no-recurrence-events</td>\n",
       "      <td>30-39</td>\n",
       "      <td>premeno</td>\n",
       "      <td>30-34</td>\n",
       "      <td>0-2</td>\n",
       "      <td>no</td>\n",
       "      <td>3</td>\n",
       "      <td>left</td>\n",
       "      <td>left_low</td>\n",
       "      <td>no</td>\n",
       "    </tr>\n",
       "    <tr>\n",
       "      <th>1</th>\n",
       "      <td>no-recurrence-events</td>\n",
       "      <td>40-49</td>\n",
       "      <td>premeno</td>\n",
       "      <td>20-24</td>\n",
       "      <td>0-2</td>\n",
       "      <td>no</td>\n",
       "      <td>2</td>\n",
       "      <td>right</td>\n",
       "      <td>right_up</td>\n",
       "      <td>no</td>\n",
       "    </tr>\n",
       "    <tr>\n",
       "      <th>2</th>\n",
       "      <td>no-recurrence-events</td>\n",
       "      <td>40-49</td>\n",
       "      <td>premeno</td>\n",
       "      <td>20-24</td>\n",
       "      <td>0-2</td>\n",
       "      <td>no</td>\n",
       "      <td>2</td>\n",
       "      <td>left</td>\n",
       "      <td>left_low</td>\n",
       "      <td>no</td>\n",
       "    </tr>\n",
       "    <tr>\n",
       "      <th>3</th>\n",
       "      <td>no-recurrence-events</td>\n",
       "      <td>60-69</td>\n",
       "      <td>ge40</td>\n",
       "      <td>15-19</td>\n",
       "      <td>0-2</td>\n",
       "      <td>no</td>\n",
       "      <td>2</td>\n",
       "      <td>right</td>\n",
       "      <td>left_up</td>\n",
       "      <td>no</td>\n",
       "    </tr>\n",
       "    <tr>\n",
       "      <th>4</th>\n",
       "      <td>no-recurrence-events</td>\n",
       "      <td>40-49</td>\n",
       "      <td>premeno</td>\n",
       "      <td>0-4</td>\n",
       "      <td>0-2</td>\n",
       "      <td>no</td>\n",
       "      <td>2</td>\n",
       "      <td>right</td>\n",
       "      <td>right_low</td>\n",
       "      <td>no</td>\n",
       "    </tr>\n",
       "  </tbody>\n",
       "</table>\n",
       "</div>"
      ],
      "text/plain": [
       "                  class    age menopause tumor-size inv-nodes node-caps  \\\n",
       "0  no-recurrence-events  30-39   premeno      30-34       0-2        no   \n",
       "1  no-recurrence-events  40-49   premeno      20-24       0-2        no   \n",
       "2  no-recurrence-events  40-49   premeno      20-24       0-2        no   \n",
       "3  no-recurrence-events  60-69      ge40      15-19       0-2        no   \n",
       "4  no-recurrence-events  40-49   premeno        0-4       0-2        no   \n",
       "\n",
       "   deg-malig breast breast-quad irradiat  \n",
       "0          3   left    left_low       no  \n",
       "1          2  right    right_up       no  \n",
       "2          2   left    left_low       no  \n",
       "3          2  right     left_up       no  \n",
       "4          2  right   right_low       no  "
      ]
     },
     "execution_count": 2,
     "metadata": {},
     "output_type": "execute_result"
    }
   ],
   "source": [
    "df = pd.read_csv(\n",
    "    \"./data/breast_cancer_cat/breast-cancer.data\",\n",
    "    names=[\n",
    "        \"class\",\n",
    "        \"age\",\n",
    "        \"menopause\",\n",
    "        \"tumor-size\",\n",
    "        \"inv-nodes\",\n",
    "        \"node-caps\",\n",
    "        \"deg-malig\",\n",
    "        \"breast\",\n",
    "        \"breast-quad\",\n",
    "        \"irradiat\",\n",
    "    ],\n",
    ")\n",
    "df.head()"
   ]
  },
  {
   "cell_type": "code",
   "execution_count": 3,
   "metadata": {},
   "outputs": [],
   "source": [
    "# pc.feat_analysis.get_distribution(df)"
   ]
  },
  {
   "cell_type": "code",
   "execution_count": 4,
   "metadata": {},
   "outputs": [],
   "source": [
    "# sns.jointplot(data=df, x=\"deg-malig\", y=\"breast\", hue=\"class\")"
   ]
  },
  {
   "cell_type": "markdown",
   "metadata": {},
   "source": [
    "## Training"
   ]
  },
  {
   "cell_type": "code",
   "execution_count": 5,
   "metadata": {},
   "outputs": [
    {
     "data": {
      "text/plain": [
       "Index(['class', 'age', 'menopause', 'tumor-size', 'inv-nodes', 'node-caps',\n",
       "       'deg-malig', 'breast', 'breast-quad', 'irradiat'],\n",
       "      dtype='object')"
      ]
     },
     "execution_count": 5,
     "metadata": {},
     "output_type": "execute_result"
    }
   ],
   "source": [
    "df.columns"
   ]
  },
  {
   "cell_type": "code",
   "execution_count": 32,
   "metadata": {},
   "outputs": [
    {
     "data": {
      "text/plain": [
       "{'modelling': {'target_clf': 'class',\n",
       "  'numeric_cols': ['deg-malig'],\n",
       "  'categorical_cols': ['age',\n",
       "   'menopause',\n",
       "   'tumor-size',\n",
       "   'inv-nodes',\n",
       "   'node-caps',\n",
       "   'breast',\n",
       "   'breast-quad',\n",
       "   'irradiat'],\n",
       "  'normalization': False}}"
      ]
     },
     "execution_count": 32,
     "metadata": {},
     "output_type": "execute_result"
    }
   ],
   "source": [
    "config = pc.init_config(\"./config_bc_cat.yml\")\n",
    "config"
   ]
  },
  {
   "cell_type": "code",
   "execution_count": 33,
   "metadata": {},
   "outputs": [],
   "source": [
    "setup, X_sample, y_sample = pc.modelling.prepare_data(\n",
    "    train_data=df,\n",
    "    config=config,\n",
    ")"
   ]
  },
  {
   "cell_type": "code",
   "execution_count": 8,
   "metadata": {},
   "outputs": [
    {
     "data": {
      "text/html": [
       "<div>\n",
       "<style scoped>\n",
       "    .dataframe tbody tr th:only-of-type {\n",
       "        vertical-align: middle;\n",
       "    }\n",
       "\n",
       "    .dataframe tbody tr th {\n",
       "        vertical-align: top;\n",
       "    }\n",
       "\n",
       "    .dataframe thead th {\n",
       "        text-align: right;\n",
       "    }\n",
       "</style>\n",
       "<table border=\"1\" class=\"dataframe\">\n",
       "  <thead>\n",
       "    <tr style=\"text-align: right;\">\n",
       "      <th></th>\n",
       "      <th>deg-malig</th>\n",
       "      <th>age_20-29</th>\n",
       "      <th>age_30-39</th>\n",
       "      <th>age_40-49</th>\n",
       "      <th>age_50-59</th>\n",
       "      <th>age_60-69</th>\n",
       "      <th>age_70-79</th>\n",
       "      <th>menopause_ge40</th>\n",
       "      <th>menopause_lt40</th>\n",
       "      <th>menopause_premeno</th>\n",
       "      <th>tumor-size_0-4</th>\n",
       "      <th>tumor-size_10-14</th>\n",
       "      <th>tumor-size_15-19</th>\n",
       "      <th>tumor-size_20-24</th>\n",
       "      <th>tumor-size_25-29</th>\n",
       "      <th>tumor-size_30-34</th>\n",
       "      <th>tumor-size_35-39</th>\n",
       "      <th>tumor-size_40-44</th>\n",
       "      <th>tumor-size_45-49</th>\n",
       "      <th>tumor-size_5-9</th>\n",
       "      <th>tumor-size_50-54</th>\n",
       "      <th>inv-nodes_0-2</th>\n",
       "      <th>inv-nodes_12-14</th>\n",
       "      <th>inv-nodes_15-17</th>\n",
       "      <th>inv-nodes_24-26</th>\n",
       "      <th>inv-nodes_3-5</th>\n",
       "      <th>inv-nodes_6-8</th>\n",
       "      <th>inv-nodes_9-11</th>\n",
       "      <th>node-caps_?</th>\n",
       "      <th>node-caps_no</th>\n",
       "      <th>node-caps_yes</th>\n",
       "      <th>breast_left</th>\n",
       "      <th>breast_right</th>\n",
       "      <th>breast-quad_?</th>\n",
       "      <th>breast-quad_central</th>\n",
       "      <th>breast-quad_left_low</th>\n",
       "      <th>breast-quad_left_up</th>\n",
       "      <th>breast-quad_right_low</th>\n",
       "      <th>breast-quad_right_up</th>\n",
       "      <th>irradiat_no</th>\n",
       "      <th>irradiat_yes</th>\n",
       "    </tr>\n",
       "  </thead>\n",
       "  <tbody>\n",
       "    <tr>\n",
       "      <th>0</th>\n",
       "      <td>3</td>\n",
       "      <td>0</td>\n",
       "      <td>1</td>\n",
       "      <td>0</td>\n",
       "      <td>0</td>\n",
       "      <td>0</td>\n",
       "      <td>0</td>\n",
       "      <td>0</td>\n",
       "      <td>0</td>\n",
       "      <td>1</td>\n",
       "      <td>0</td>\n",
       "      <td>0</td>\n",
       "      <td>0</td>\n",
       "      <td>0</td>\n",
       "      <td>0</td>\n",
       "      <td>1</td>\n",
       "      <td>0</td>\n",
       "      <td>0</td>\n",
       "      <td>0</td>\n",
       "      <td>0</td>\n",
       "      <td>0</td>\n",
       "      <td>1</td>\n",
       "      <td>0</td>\n",
       "      <td>0</td>\n",
       "      <td>0</td>\n",
       "      <td>0</td>\n",
       "      <td>0</td>\n",
       "      <td>0</td>\n",
       "      <td>0</td>\n",
       "      <td>1</td>\n",
       "      <td>0</td>\n",
       "      <td>1</td>\n",
       "      <td>0</td>\n",
       "      <td>0</td>\n",
       "      <td>0</td>\n",
       "      <td>1</td>\n",
       "      <td>0</td>\n",
       "      <td>0</td>\n",
       "      <td>0</td>\n",
       "      <td>1</td>\n",
       "      <td>0</td>\n",
       "    </tr>\n",
       "    <tr>\n",
       "      <th>1</th>\n",
       "      <td>2</td>\n",
       "      <td>0</td>\n",
       "      <td>0</td>\n",
       "      <td>1</td>\n",
       "      <td>0</td>\n",
       "      <td>0</td>\n",
       "      <td>0</td>\n",
       "      <td>0</td>\n",
       "      <td>0</td>\n",
       "      <td>1</td>\n",
       "      <td>0</td>\n",
       "      <td>0</td>\n",
       "      <td>0</td>\n",
       "      <td>1</td>\n",
       "      <td>0</td>\n",
       "      <td>0</td>\n",
       "      <td>0</td>\n",
       "      <td>0</td>\n",
       "      <td>0</td>\n",
       "      <td>0</td>\n",
       "      <td>0</td>\n",
       "      <td>1</td>\n",
       "      <td>0</td>\n",
       "      <td>0</td>\n",
       "      <td>0</td>\n",
       "      <td>0</td>\n",
       "      <td>0</td>\n",
       "      <td>0</td>\n",
       "      <td>0</td>\n",
       "      <td>1</td>\n",
       "      <td>0</td>\n",
       "      <td>0</td>\n",
       "      <td>1</td>\n",
       "      <td>0</td>\n",
       "      <td>0</td>\n",
       "      <td>0</td>\n",
       "      <td>0</td>\n",
       "      <td>0</td>\n",
       "      <td>1</td>\n",
       "      <td>1</td>\n",
       "      <td>0</td>\n",
       "    </tr>\n",
       "    <tr>\n",
       "      <th>2</th>\n",
       "      <td>2</td>\n",
       "      <td>0</td>\n",
       "      <td>0</td>\n",
       "      <td>1</td>\n",
       "      <td>0</td>\n",
       "      <td>0</td>\n",
       "      <td>0</td>\n",
       "      <td>0</td>\n",
       "      <td>0</td>\n",
       "      <td>1</td>\n",
       "      <td>0</td>\n",
       "      <td>0</td>\n",
       "      <td>0</td>\n",
       "      <td>1</td>\n",
       "      <td>0</td>\n",
       "      <td>0</td>\n",
       "      <td>0</td>\n",
       "      <td>0</td>\n",
       "      <td>0</td>\n",
       "      <td>0</td>\n",
       "      <td>0</td>\n",
       "      <td>1</td>\n",
       "      <td>0</td>\n",
       "      <td>0</td>\n",
       "      <td>0</td>\n",
       "      <td>0</td>\n",
       "      <td>0</td>\n",
       "      <td>0</td>\n",
       "      <td>0</td>\n",
       "      <td>1</td>\n",
       "      <td>0</td>\n",
       "      <td>1</td>\n",
       "      <td>0</td>\n",
       "      <td>0</td>\n",
       "      <td>0</td>\n",
       "      <td>1</td>\n",
       "      <td>0</td>\n",
       "      <td>0</td>\n",
       "      <td>0</td>\n",
       "      <td>1</td>\n",
       "      <td>0</td>\n",
       "    </tr>\n",
       "    <tr>\n",
       "      <th>3</th>\n",
       "      <td>2</td>\n",
       "      <td>0</td>\n",
       "      <td>0</td>\n",
       "      <td>0</td>\n",
       "      <td>0</td>\n",
       "      <td>1</td>\n",
       "      <td>0</td>\n",
       "      <td>1</td>\n",
       "      <td>0</td>\n",
       "      <td>0</td>\n",
       "      <td>0</td>\n",
       "      <td>0</td>\n",
       "      <td>1</td>\n",
       "      <td>0</td>\n",
       "      <td>0</td>\n",
       "      <td>0</td>\n",
       "      <td>0</td>\n",
       "      <td>0</td>\n",
       "      <td>0</td>\n",
       "      <td>0</td>\n",
       "      <td>0</td>\n",
       "      <td>1</td>\n",
       "      <td>0</td>\n",
       "      <td>0</td>\n",
       "      <td>0</td>\n",
       "      <td>0</td>\n",
       "      <td>0</td>\n",
       "      <td>0</td>\n",
       "      <td>0</td>\n",
       "      <td>1</td>\n",
       "      <td>0</td>\n",
       "      <td>0</td>\n",
       "      <td>1</td>\n",
       "      <td>0</td>\n",
       "      <td>0</td>\n",
       "      <td>0</td>\n",
       "      <td>1</td>\n",
       "      <td>0</td>\n",
       "      <td>0</td>\n",
       "      <td>1</td>\n",
       "      <td>0</td>\n",
       "    </tr>\n",
       "    <tr>\n",
       "      <th>4</th>\n",
       "      <td>2</td>\n",
       "      <td>0</td>\n",
       "      <td>0</td>\n",
       "      <td>1</td>\n",
       "      <td>0</td>\n",
       "      <td>0</td>\n",
       "      <td>0</td>\n",
       "      <td>0</td>\n",
       "      <td>0</td>\n",
       "      <td>1</td>\n",
       "      <td>1</td>\n",
       "      <td>0</td>\n",
       "      <td>0</td>\n",
       "      <td>0</td>\n",
       "      <td>0</td>\n",
       "      <td>0</td>\n",
       "      <td>0</td>\n",
       "      <td>0</td>\n",
       "      <td>0</td>\n",
       "      <td>0</td>\n",
       "      <td>0</td>\n",
       "      <td>1</td>\n",
       "      <td>0</td>\n",
       "      <td>0</td>\n",
       "      <td>0</td>\n",
       "      <td>0</td>\n",
       "      <td>0</td>\n",
       "      <td>0</td>\n",
       "      <td>0</td>\n",
       "      <td>1</td>\n",
       "      <td>0</td>\n",
       "      <td>0</td>\n",
       "      <td>1</td>\n",
       "      <td>0</td>\n",
       "      <td>0</td>\n",
       "      <td>0</td>\n",
       "      <td>0</td>\n",
       "      <td>1</td>\n",
       "      <td>0</td>\n",
       "      <td>1</td>\n",
       "      <td>0</td>\n",
       "    </tr>\n",
       "  </tbody>\n",
       "</table>\n",
       "</div>"
      ],
      "text/plain": [
       "   deg-malig  age_20-29  age_30-39  age_40-49  age_50-59  age_60-69  \\\n",
       "0          3          0          1          0          0          0   \n",
       "1          2          0          0          1          0          0   \n",
       "2          2          0          0          1          0          0   \n",
       "3          2          0          0          0          0          1   \n",
       "4          2          0          0          1          0          0   \n",
       "\n",
       "   age_70-79  menopause_ge40  menopause_lt40  menopause_premeno  \\\n",
       "0          0               0               0                  1   \n",
       "1          0               0               0                  1   \n",
       "2          0               0               0                  1   \n",
       "3          0               1               0                  0   \n",
       "4          0               0               0                  1   \n",
       "\n",
       "   tumor-size_0-4  tumor-size_10-14  tumor-size_15-19  tumor-size_20-24  \\\n",
       "0               0                 0                 0                 0   \n",
       "1               0                 0                 0                 1   \n",
       "2               0                 0                 0                 1   \n",
       "3               0                 0                 1                 0   \n",
       "4               1                 0                 0                 0   \n",
       "\n",
       "   tumor-size_25-29  tumor-size_30-34  tumor-size_35-39  tumor-size_40-44  \\\n",
       "0                 0                 1                 0                 0   \n",
       "1                 0                 0                 0                 0   \n",
       "2                 0                 0                 0                 0   \n",
       "3                 0                 0                 0                 0   \n",
       "4                 0                 0                 0                 0   \n",
       "\n",
       "   tumor-size_45-49  tumor-size_5-9  tumor-size_50-54  inv-nodes_0-2  \\\n",
       "0                 0               0                 0              1   \n",
       "1                 0               0                 0              1   \n",
       "2                 0               0                 0              1   \n",
       "3                 0               0                 0              1   \n",
       "4                 0               0                 0              1   \n",
       "\n",
       "   inv-nodes_12-14  inv-nodes_15-17  inv-nodes_24-26  inv-nodes_3-5  \\\n",
       "0                0                0                0              0   \n",
       "1                0                0                0              0   \n",
       "2                0                0                0              0   \n",
       "3                0                0                0              0   \n",
       "4                0                0                0              0   \n",
       "\n",
       "   inv-nodes_6-8  inv-nodes_9-11  node-caps_?  node-caps_no  node-caps_yes  \\\n",
       "0              0               0            0             1              0   \n",
       "1              0               0            0             1              0   \n",
       "2              0               0            0             1              0   \n",
       "3              0               0            0             1              0   \n",
       "4              0               0            0             1              0   \n",
       "\n",
       "   breast_left  breast_right  breast-quad_?  breast-quad_central  \\\n",
       "0            1             0              0                    0   \n",
       "1            0             1              0                    0   \n",
       "2            1             0              0                    0   \n",
       "3            0             1              0                    0   \n",
       "4            0             1              0                    0   \n",
       "\n",
       "   breast-quad_left_low  breast-quad_left_up  breast-quad_right_low  \\\n",
       "0                     1                    0                      0   \n",
       "1                     0                    0                      0   \n",
       "2                     1                    0                      0   \n",
       "3                     0                    1                      0   \n",
       "4                     0                    0                      1   \n",
       "\n",
       "   breast-quad_right_up  irradiat_no  irradiat_yes  \n",
       "0                     0            1             0  \n",
       "1                     1            1             0  \n",
       "2                     0            1             0  \n",
       "3                     0            1             0  \n",
       "4                     0            1             0  "
      ]
     },
     "execution_count": 8,
     "metadata": {},
     "output_type": "execute_result"
    }
   ],
   "source": [
    "X_sample"
   ]
  },
  {
   "cell_type": "code",
   "execution_count": 10,
   "metadata": {},
   "outputs": [
    {
     "data": {
      "text/html": [
       "<div>\n",
       "<style scoped>\n",
       "    .dataframe tbody tr th:only-of-type {\n",
       "        vertical-align: middle;\n",
       "    }\n",
       "\n",
       "    .dataframe tbody tr th {\n",
       "        vertical-align: top;\n",
       "    }\n",
       "\n",
       "    .dataframe thead th {\n",
       "        text-align: right;\n",
       "    }\n",
       "</style>\n",
       "<table border=\"1\" class=\"dataframe\">\n",
       "  <thead>\n",
       "    <tr style=\"text-align: right;\">\n",
       "      <th></th>\n",
       "      <th>algorithm</th>\n",
       "      <th>accuracy</th>\n",
       "      <th>precision</th>\n",
       "      <th>recall</th>\n",
       "      <th>f1</th>\n",
       "      <th>roc_auc</th>\n",
       "      <th>Fit time (s)</th>\n",
       "    </tr>\n",
       "  </thead>\n",
       "  <tbody>\n",
       "    <tr>\n",
       "      <th>0</th>\n",
       "      <td>nb</td>\n",
       "      <td>0.549</td>\n",
       "      <td>0.447</td>\n",
       "      <td>0.835</td>\n",
       "      <td>0.552</td>\n",
       "      <td>0.659</td>\n",
       "      <td>0.105</td>\n",
       "    </tr>\n",
       "    <tr>\n",
       "      <th>1</th>\n",
       "      <td>linearsvc</td>\n",
       "      <td>0.671</td>\n",
       "      <td>0.575</td>\n",
       "      <td>0.365</td>\n",
       "      <td>0.392</td>\n",
       "      <td>0.605</td>\n",
       "      <td>0.104</td>\n",
       "    </tr>\n",
       "    <tr>\n",
       "      <th>2</th>\n",
       "      <td>lr</td>\n",
       "      <td>0.685</td>\n",
       "      <td>0.581</td>\n",
       "      <td>0.376</td>\n",
       "      <td>0.382</td>\n",
       "      <td>0.634</td>\n",
       "      <td>0.268</td>\n",
       "    </tr>\n",
       "    <tr>\n",
       "      <th>3</th>\n",
       "      <td>ridge</td>\n",
       "      <td>0.668</td>\n",
       "      <td>0.549</td>\n",
       "      <td>0.353</td>\n",
       "      <td>0.375</td>\n",
       "      <td>0.609</td>\n",
       "      <td>0.123</td>\n",
       "    </tr>\n",
       "    <tr>\n",
       "      <th>4</th>\n",
       "      <td>extratree</td>\n",
       "      <td>0.636</td>\n",
       "      <td>0.387</td>\n",
       "      <td>0.376</td>\n",
       "      <td>0.358</td>\n",
       "      <td>0.561</td>\n",
       "      <td>0.091</td>\n",
       "    </tr>\n",
       "    <tr>\n",
       "      <th>5</th>\n",
       "      <td>rf</td>\n",
       "      <td>0.671</td>\n",
       "      <td>0.403</td>\n",
       "      <td>0.353</td>\n",
       "      <td>0.348</td>\n",
       "      <td>0.649</td>\n",
       "      <td>2.813</td>\n",
       "    </tr>\n",
       "    <tr>\n",
       "      <th>6</th>\n",
       "      <td>extratrees</td>\n",
       "      <td>0.661</td>\n",
       "      <td>0.357</td>\n",
       "      <td>0.365</td>\n",
       "      <td>0.342</td>\n",
       "      <td>0.613</td>\n",
       "      <td>2.410</td>\n",
       "    </tr>\n",
       "    <tr>\n",
       "      <th>7</th>\n",
       "      <td>knn</td>\n",
       "      <td>0.717</td>\n",
       "      <td>0.534</td>\n",
       "      <td>0.271</td>\n",
       "      <td>0.335</td>\n",
       "      <td>0.621</td>\n",
       "      <td>0.070</td>\n",
       "    </tr>\n",
       "    <tr>\n",
       "      <th>8</th>\n",
       "      <td>dt</td>\n",
       "      <td>0.633</td>\n",
       "      <td>0.351</td>\n",
       "      <td>0.329</td>\n",
       "      <td>0.330</td>\n",
       "      <td>0.550</td>\n",
       "      <td>0.065</td>\n",
       "    </tr>\n",
       "    <tr>\n",
       "      <th>9</th>\n",
       "      <td>rbfsvc</td>\n",
       "      <td>0.703</td>\n",
       "      <td>0.569</td>\n",
       "      <td>0.306</td>\n",
       "      <td>0.325</td>\n",
       "      <td>0.676</td>\n",
       "      <td>0.111</td>\n",
       "    </tr>\n",
       "    <tr>\n",
       "      <th>10</th>\n",
       "      <td>passive-aggressive</td>\n",
       "      <td>0.598</td>\n",
       "      <td>0.417</td>\n",
       "      <td>0.306</td>\n",
       "      <td>0.303</td>\n",
       "      <td>0.549</td>\n",
       "      <td>0.089</td>\n",
       "    </tr>\n",
       "    <tr>\n",
       "      <th>11</th>\n",
       "      <td>perceptron</td>\n",
       "      <td>0.633</td>\n",
       "      <td>0.183</td>\n",
       "      <td>0.247</td>\n",
       "      <td>0.191</td>\n",
       "      <td>0.524</td>\n",
       "      <td>0.083</td>\n",
       "    </tr>\n",
       "  </tbody>\n",
       "</table>\n",
       "</div>"
      ],
      "text/plain": [
       "             algorithm  accuracy  precision  recall     f1  roc_auc  \\\n",
       "0                   nb     0.549      0.447   0.835  0.552    0.659   \n",
       "1            linearsvc     0.671      0.575   0.365  0.392    0.605   \n",
       "2                   lr     0.685      0.581   0.376  0.382    0.634   \n",
       "3                ridge     0.668      0.549   0.353  0.375    0.609   \n",
       "4            extratree     0.636      0.387   0.376  0.358    0.561   \n",
       "5                   rf     0.671      0.403   0.353  0.348    0.649   \n",
       "6           extratrees     0.661      0.357   0.365  0.342    0.613   \n",
       "7                  knn     0.717      0.534   0.271  0.335    0.621   \n",
       "8                   dt     0.633      0.351   0.329  0.330    0.550   \n",
       "9               rbfsvc     0.703      0.569   0.306  0.325    0.676   \n",
       "10  passive-aggressive     0.598      0.417   0.306  0.303    0.549   \n",
       "11          perceptron     0.633      0.183   0.247  0.191    0.524   \n",
       "\n",
       "    Fit time (s)  \n",
       "0          0.105  \n",
       "1          0.104  \n",
       "2          0.268  \n",
       "3          0.123  \n",
       "4          0.091  \n",
       "5          2.813  \n",
       "6          2.410  \n",
       "7          0.070  \n",
       "8          0.065  \n",
       "9          0.111  \n",
       "10         0.089  \n",
       "11         0.083  "
      ]
     },
     "execution_count": 10,
     "metadata": {},
     "output_type": "execute_result"
    }
   ],
   "source": [
    "compare_df, algo_list, model_list = pc.modelling.compare_algorithms(\n",
    "    setup=setup,\n",
    "    include=[\n",
    "        \"lr\",\n",
    "        \"dt\",\n",
    "        \"rf\",\n",
    "        \"ridge\",\n",
    "        \"perceptron\",\n",
    "        \"passive-aggressive\",\n",
    "        \"extratree\",\n",
    "        \"extratrees\",\n",
    "        \"knn\",\n",
    "        \"nb\",\n",
    "        \"linearsvc\",\n",
    "        \"rbfsvc\",\n",
    "    ],\n",
    "    sort=\"f1\",\n",
    "    return_models=True,\n",
    ")\n",
    "compare_df"
   ]
  },
  {
   "cell_type": "code",
   "execution_count": 11,
   "metadata": {},
   "outputs": [
    {
     "data": {
      "text/plain": [
       "['nb',\n",
       " 'linearsvc',\n",
       " 'lr',\n",
       " 'ridge',\n",
       " 'extratree',\n",
       " 'rf',\n",
       " 'extratrees',\n",
       " 'knn',\n",
       " 'dt',\n",
       " 'rbfsvc',\n",
       " 'passive-aggressive',\n",
       " 'perceptron']"
      ]
     },
     "execution_count": 11,
     "metadata": {},
     "output_type": "execute_result"
    }
   ],
   "source": [
    "algo_list"
   ]
  },
  {
   "cell_type": "code",
   "execution_count": 12,
   "metadata": {},
   "outputs": [
    {
     "data": {
      "text/plain": [
       "[GaussianNB(),\n",
       " LinearSVC(),\n",
       " LogisticRegression(),\n",
       " RidgeClassifier(),\n",
       " ExtraTreeClassifier(),\n",
       " RandomForestClassifier(),\n",
       " ExtraTreesClassifier(),\n",
       " KNeighborsClassifier(),\n",
       " DecisionTreeClassifier(),\n",
       " SVC(),\n",
       " PassiveAggressiveClassifier(),\n",
       " Perceptron()]"
      ]
     },
     "execution_count": 12,
     "metadata": {},
     "output_type": "execute_result"
    }
   ],
   "source": [
    "model_list"
   ]
  },
  {
   "cell_type": "code",
   "execution_count": 13,
   "metadata": {},
   "outputs": [
    {
     "data": {
      "text/plain": [
       "array(['recurrence-events', 'recurrence-events', 'recurrence-events',\n",
       "       'recurrence-events', 'no-recurrence-events'], dtype=object)"
      ]
     },
     "execution_count": 13,
     "metadata": {},
     "output_type": "execute_result"
    }
   ],
   "source": [
    "le = setup.y_clf_encoder\n",
    "preds = model_list[-1].predict(X_sample)\n",
    "le.inverse_transform(preds)"
   ]
  },
  {
   "cell_type": "code",
   "execution_count": 14,
   "metadata": {},
   "outputs": [
    {
     "name": "stdout",
     "output_type": "stream",
     "text": [
      "(0, 'no-recurrence-events') (1, 'recurrence-events')\n"
     ]
    }
   ],
   "source": [
    "print(*[(i, class_) for i, class_ in enumerate(le.classes_)])"
   ]
  },
  {
   "cell_type": "code",
   "execution_count": 15,
   "metadata": {},
   "outputs": [],
   "source": [
    "# algorithm, reference_metric = compare_df.loc[\n",
    "#     compare_df[\"algorithm\"] == algo_list[0], [\"algorithm\", \"f1\"]\n",
    "# ].values[0]\n",
    "# best_feature_list = pc.modelling.reduce_feature_space(\n",
    "#     setup, algorithm, \"f1\", reference_metric, acceptable_loss=0.5\n",
    "# )\n",
    "# best_feature_list"
   ]
  },
  {
   "cell_type": "code",
   "execution_count": 40,
   "metadata": {},
   "outputs": [
    {
     "name": "stderr",
     "output_type": "stream",
     "text": [
      "\u001b[32m[I 2022-07-13 16:09:28,690]\u001b[0m A new study created in memory with name: study_lr\u001b[0m\n"
     ]
    },
    {
     "name": "stdout",
     "output_type": "stream",
     "text": [
      "The algorithms ['lr'] work suboptimally without normalized data. Consider turning it on within the config.\n"
     ]
    },
    {
     "name": "stderr",
     "output_type": "stream",
     "text": [
      "\u001b[32m[I 2022-07-13 16:09:29,092]\u001b[0m Trial 0 finished with value: 0.34474168231498864 and parameters: {'C': 0.876416376055759, 'l1_ratio': 0.7659965014916003}. Best is trial 0 with value: 0.34474168231498864.\u001b[0m\n",
      "\u001b[32m[I 2022-07-13 16:09:30,003]\u001b[0m Trial 1 finished with value: 0.39035965801607364 and parameters: {'C': 8.358042343998237, 'l1_ratio': 0.8999417981053001}. Best is trial 1 with value: 0.39035965801607364.\u001b[0m\n",
      "\u001b[32m[I 2022-07-13 16:09:30,201]\u001b[0m Trial 2 finished with value: 0.0 and parameters: {'C': 4.122508868448464e-06, 'l1_ratio': 0.22485086407784372}. Best is trial 1 with value: 0.39035965801607364.\u001b[0m\n",
      "\u001b[32m[I 2022-07-13 16:09:30,459]\u001b[0m Trial 3 finished with value: 0.13563218390804596 and parameters: {'C': 0.09500046100744401, 'l1_ratio': 0.46084297942600483}. Best is trial 1 with value: 0.39035965801607364.\u001b[0m\n",
      "\u001b[32m[I 2022-07-13 16:09:31,053]\u001b[0m Trial 4 finished with value: 0.3600398671096346 and parameters: {'C': 0.7829666622477595, 'l1_ratio': 0.22188553067484706}. Best is trial 1 with value: 0.39035965801607364.\u001b[0m\n",
      "\u001b[32m[I 2022-07-13 16:09:31,218]\u001b[0m Trial 5 finished with value: 0.0 and parameters: {'C': 0.0024213627262060517, 'l1_ratio': 0.9549597276308452}. Best is trial 1 with value: 0.39035965801607364.\u001b[0m\n",
      "\u001b[32m[I 2022-07-13 16:09:31,439]\u001b[0m Trial 6 finished with value: 0.0 and parameters: {'C': 0.03181466746281489, 'l1_ratio': 0.7616983870210144}. Best is trial 1 with value: 0.39035965801607364.\u001b[0m\n",
      "\u001b[32m[I 2022-07-13 16:09:31,560]\u001b[0m Trial 7 finished with value: 0.0 and parameters: {'C': 1.231115063924893e-05, 'l1_ratio': 0.022567884525449666}. Best is trial 1 with value: 0.39035965801607364.\u001b[0m\n",
      "\u001b[32m[I 2022-07-13 16:09:31,810]\u001b[0m Trial 8 finished with value: 0.0 and parameters: {'C': 0.0002198350481411215, 'l1_ratio': 0.007981531527355812}. Best is trial 1 with value: 0.39035965801607364.\u001b[0m\n",
      "\u001b[32m[I 2022-07-13 16:09:32,044]\u001b[0m Trial 9 finished with value: 0.0 and parameters: {'C': 9.166188967568102e-06, 'l1_ratio': 0.7730408804474743}. Best is trial 1 with value: 0.39035965801607364.\u001b[0m\n"
     ]
    },
    {
     "data": {
      "text/html": [
       "<div>\n",
       "<style scoped>\n",
       "    .dataframe tbody tr th:only-of-type {\n",
       "        vertical-align: middle;\n",
       "    }\n",
       "\n",
       "    .dataframe tbody tr th {\n",
       "        vertical-align: top;\n",
       "    }\n",
       "\n",
       "    .dataframe thead th {\n",
       "        text-align: right;\n",
       "    }\n",
       "</style>\n",
       "<table border=\"1\" class=\"dataframe\">\n",
       "  <thead>\n",
       "    <tr style=\"text-align: right;\">\n",
       "      <th></th>\n",
       "      <th>algorithm</th>\n",
       "      <th>metric</th>\n",
       "      <th>hyperparams</th>\n",
       "    </tr>\n",
       "  </thead>\n",
       "  <tbody>\n",
       "    <tr>\n",
       "      <th>0</th>\n",
       "      <td>lr</td>\n",
       "      <td>0.39036</td>\n",
       "      <td>{'C': 8.358042343998237, 'class_weight': None,...</td>\n",
       "    </tr>\n",
       "  </tbody>\n",
       "</table>\n",
       "</div>"
      ],
      "text/plain": [
       "  algorithm   metric                                        hyperparams\n",
       "0        lr  0.39036  {'C': 8.358042343998237, 'class_weight': None,..."
      ]
     },
     "execution_count": 40,
     "metadata": {},
     "output_type": "execute_result"
    }
   ],
   "source": [
    "compare_df, model_list = (\n",
    "        pc.modelling.tune_hyperparams(\n",
    "               setup=setup,\n",
    "               include=[\"lr\"],\n",
    "               optimize=\"f1\",\n",
    "               n_trials=10,\n",
    "               return_models=True,\n",
    "        )\n",
    ")\n",
    "compare_df"
   ]
  },
  {
   "cell_type": "code",
   "execution_count": 36,
   "metadata": {},
   "outputs": [
    {
     "data": {
      "text/plain": [
       "[LogisticRegression(C=2.150879902627906, l1_ratio=0.6131957285273479,\n",
       "                    max_iter=1000, penalty='elasticnet', solver='saga')]"
      ]
     },
     "execution_count": 36,
     "metadata": {},
     "output_type": "execute_result"
    }
   ],
   "source": [
    "model_list"
   ]
  },
  {
   "cell_type": "code",
   "execution_count": 17,
   "metadata": {},
   "outputs": [],
   "source": [
    "import optuna\n",
    "from sklearn.model_selection import RepeatedStratifiedKFold\n",
    "from sklearn.model_selection import cross_val_score\n",
    "from sklearn.linear_model import LogisticRegression"
   ]
  },
  {
   "cell_type": "code",
   "execution_count": 18,
   "metadata": {},
   "outputs": [],
   "source": [
    "def objective(trial, solver):\n",
    "    lr_c = trial.suggest_float(\"c\", 1e-6, 1e2, log=True)\n",
    "    if solver in  [\"newton-cg\", \"lbfgs\", \"sag\"]:\n",
    "        lr_penalty = trial.suggest_categorical(\"penalty\", [\"l2\", \"none\"])\n",
    "    elif solver == \"liblinear\":\n",
    "        lr_penalty = trial.suggest_categorical(\"penalty\", [\"l1\", \"l2\"])\n",
    "    elif solver == \"saga\":\n",
    "        lr_penalty = trial.suggest_categorical(\"penalty\", [\"l1\", \"l2\", \"elasticnet\", \"none\"])\n",
    "    \n",
    "    cv = RepeatedStratifiedKFold(n_splits=10, n_repeats=3, random_state=1)\n",
    "    model = LogisticRegression(C=lr_c,\n",
    "    solver=solver,\n",
    "    penalty=lr_penalty,\n",
    "    max_iter=1000,\n",
    "    )\n",
    "    scores = cross_val_score(model, setup.X_train, setup.y_clf_train, scoring='f1', cv=cv, n_jobs=-1, error_score='raise')\n",
    "    mean_f1 = scores.mean()\n",
    "\n",
    "    return mean_f1"
   ]
  },
  {
   "cell_type": "code",
   "execution_count": 19,
   "metadata": {},
   "outputs": [],
   "source": [
    "def get_best_solver():\n",
    "    log = pd.DataFrame(data={}, columns=[\"solver\", \"score\"])\n",
    "    for solver in [\"newton-cg\", \"lbfgs\", \"liblinear\", \"sag\", \"saga\"]:\n",
    "        cv = RepeatedStratifiedKFold(n_splits=10, n_repeats=3, random_state=1)\n",
    "        model = LogisticRegression(solver=solver, max_iter=1000)\n",
    "        scores = cross_val_score(model, setup.X_train, setup.y_clf_train, scoring='f1', cv=cv, n_jobs=-1, error_score='raise')\n",
    "        mean_f1 = scores.mean()\n",
    "        log.loc[len(log)] = [solver, mean_f1]\n",
    "    print(log)\n",
    "    best_solver = log.sort_values(by=\"score\", ascending=False).iloc[0][\"solver\"]\n",
    "    print(f\"Best solver: {best_solver}\")\n",
    "    return best_solver"
   ]
  },
  {
   "cell_type": "code",
   "execution_count": 20,
   "metadata": {},
   "outputs": [
    {
     "name": "stderr",
     "output_type": "stream",
     "text": [
      "\u001b[32m[I 2022-07-12 23:39:39,742]\u001b[0m A new study created in memory with name: no-name-0bf23601-4d13-46a1-a37b-33b8a4c0c564\u001b[0m\n"
     ]
    },
    {
     "name": "stdout",
     "output_type": "stream",
     "text": [
      "      solver     score\n",
      "0  newton-cg  0.360776\n",
      "1      lbfgs  0.360776\n",
      "2  liblinear  0.363495\n",
      "3        sag  0.360776\n",
      "4       saga  0.360776\n",
      "Best solver: liblinear\n"
     ]
    },
    {
     "name": "stderr",
     "output_type": "stream",
     "text": [
      "\u001b[32m[I 2022-07-12 23:39:43,192]\u001b[0m Trial 0 finished with value: 0.3366882813322442 and parameters: {'c': 15.716189191915063, 'penalty': 'l2'}. Best is trial 0 with value: 0.3366882813322442.\u001b[0m\n",
      "\u001b[32m[I 2022-07-12 23:39:45,864]\u001b[0m Trial 1 finished with value: 0.0 and parameters: {'c': 0.00013917466067257176, 'penalty': 'l2'}. Best is trial 0 with value: 0.3366882813322442.\u001b[0m\n",
      "\u001b[32m[I 2022-07-12 23:39:49,042]\u001b[0m Trial 2 finished with value: 0.3735945862416451 and parameters: {'c': 0.2757801172519201, 'penalty': 'l2'}. Best is trial 2 with value: 0.3735945862416451.\u001b[0m\n",
      "\u001b[32m[I 2022-07-12 23:39:52,148]\u001b[0m Trial 3 finished with value: 0.0 and parameters: {'c': 0.006448537884634547, 'penalty': 'l2'}. Best is trial 2 with value: 0.3735945862416451.\u001b[0m\n",
      "\u001b[32m[I 2022-07-12 23:39:55,228]\u001b[0m Trial 4 finished with value: 0.005128205128205128 and parameters: {'c': 0.08881746409157767, 'penalty': 'l1'}. Best is trial 2 with value: 0.3735945862416451.\u001b[0m\n"
     ]
    }
   ],
   "source": [
    "from sklearn.exceptions import ConvergenceWarning\n",
    "import functools\n",
    "from sklearn.utils import parallel_backend\n",
    "import warnings\n",
    "with parallel_backend(\"multiprocessing\"):\n",
    "  with warnings.catch_warnings():\n",
    "    # warnings.filterwarnings(\"ignore\", category=ConvergenceWarning, module=\"sklearn\")\n",
    "    best_solver = get_best_solver()\n",
    "    study = optuna.create_study(direction=\"maximize\")\n",
    "    study.optimize(functools.partial(objective, solver=best_solver), n_trials=5)\n",
    "    study.best_trial"
   ]
  },
  {
   "cell_type": "code",
   "execution_count": 21,
   "metadata": {},
   "outputs": [
    {
     "data": {
      "text/plain": [
       "FrozenTrial(number=2, values=[0.3735945862416451], datetime_start=datetime.datetime(2022, 7, 12, 23, 39, 45, 892275), datetime_complete=datetime.datetime(2022, 7, 12, 23, 39, 49, 40267), params={'c': 0.2757801172519201, 'penalty': 'l2'}, distributions={'c': LogUniformDistribution(high=100.0, low=1e-06), 'penalty': CategoricalDistribution(choices=('l1', 'l2'))}, user_attrs={}, system_attrs={}, intermediate_values={}, trial_id=2, state=TrialState.COMPLETE, value=None)"
      ]
     },
     "execution_count": 21,
     "metadata": {},
     "output_type": "execute_result"
    }
   ],
   "source": [
    "study.best_trial"
   ]
  },
  {
   "cell_type": "code",
   "execution_count": 114,
   "metadata": {},
   "outputs": [
    {
     "name": "stdout",
     "output_type": "stream",
     "text": [
      "c: 0.16668851711944807\n",
      "Penalty: l2\n"
     ]
    }
   ],
   "source": [
    "def fx(c, penalty):\n",
    "    print(f\"c: {c}\")\n",
    "    print(f\"Penalty: {penalty}\")\n",
    "fx(**study.best_trial.params)"
   ]
  },
  {
   "cell_type": "code",
   "execution_count": 120,
   "metadata": {},
   "outputs": [
    {
     "data": {
      "text/plain": [
       "{'c': 0.16668851711944807, 'penalty': 'l2'}"
      ]
     },
     "execution_count": 120,
     "metadata": {},
     "output_type": "execute_result"
    }
   ],
   "source": [
    "study.best_trial.params"
   ]
  },
  {
   "cell_type": "code",
   "execution_count": 119,
   "metadata": {},
   "outputs": [
    {
     "data": {
      "text/plain": [
       "0.39335622982681806"
      ]
     },
     "execution_count": 119,
     "metadata": {},
     "output_type": "execute_result"
    }
   ],
   "source": [
    "study.best_trial.values[0]"
   ]
  }
 ],
 "metadata": {
  "kernelspec": {
   "display_name": "Python 3.10.4 ('.venv': venv)",
   "language": "python",
   "name": "python3"
  },
  "language_info": {
   "codemirror_mode": {
    "name": "ipython",
    "version": 3
   },
   "file_extension": ".py",
   "mimetype": "text/x-python",
   "name": "python",
   "nbconvert_exporter": "python",
   "pygments_lexer": "ipython3",
   "version": "3.9.13"
  },
  "orig_nbformat": 4,
  "vscode": {
   "interpreter": {
    "hash": "72a37b099736113fa4e49879f06f2d2541c06dd18f0467be13681d0668adfbf6"
   }
  }
 },
 "nbformat": 4,
 "nbformat_minor": 2
}
